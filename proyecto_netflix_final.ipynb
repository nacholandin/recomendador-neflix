{
 "cells": [
  {
   "cell_type": "code",
   "execution_count": 1,
   "id": "a6b6417a-08e0-457a-8675-31c31e699460",
   "metadata": {},
   "outputs": [],
   "source": [
    "# Las siguientes celdas (from google.colab import files.....) te las dejamos comentadas por si quieres \n",
    "# ejecutarlas en google.colab) para subir los archivos oportunos.\n"
   ]
  },
  {
   "cell_type": "code",
   "execution_count": 2,
   "id": "-awyB10YIJBG",
   "metadata": {
    "colab": {
     "background_save": true,
     "base_uri": "https://localhost:8080/",
     "height": 38
    },
    "id": "-awyB10YIJBG",
    "outputId": "3b33d88a-bc5a-461d-8200-956598785ea8"
   },
   "outputs": [],
   "source": [
    "# from google.colab import files\n",
    "# uploaded = files.upload()"
   ]
  },
  {
   "cell_type": "code",
   "execution_count": 3,
   "id": "nzBLN3hC-3PZ",
   "metadata": {
    "id": "nzBLN3hC-3PZ"
   },
   "outputs": [],
   "source": [
    "# from google.colab import files\n",
    "# uploaded = files.upload()"
   ]
  },
  {
   "cell_type": "code",
   "execution_count": 4,
   "id": "shQVloxrrGG-",
   "metadata": {
    "id": "shQVloxrrGG-"
   },
   "outputs": [],
   "source": [
    "# from google.colab import files\n",
    "# uploaded = files.upload()"
   ]
  },
  {
   "cell_type": "code",
   "execution_count": 5,
   "id": "xibCK9-HrGTT",
   "metadata": {
    "id": "xibCK9-HrGTT"
   },
   "outputs": [],
   "source": [
    "# from google.colab import files\n",
    "# uploaded = files.upload()"
   ]
  },
  {
   "cell_type": "code",
   "execution_count": 6,
   "id": "QuukDzqtrGd_",
   "metadata": {
    "id": "QuukDzqtrGd_"
   },
   "outputs": [],
   "source": [
    "# from google.colab import files\n",
    "# uploaded = files.upload()"
   ]
  },
  {
   "cell_type": "code",
   "execution_count": 7,
   "id": "PHsnW6NDrGoX",
   "metadata": {
    "id": "PHsnW6NDrGoX"
   },
   "outputs": [],
   "source": [
    "# from google.colab import files\n",
    "# uploaded = files.upload()"
   ]
  },
  {
   "cell_type": "code",
   "execution_count": 8,
   "id": "54a14a8a-07b7-4958-b6f8-2b1828d1e13b",
   "metadata": {
    "id": "54a14a8a-07b7-4958-b6f8-2b1828d1e13b"
   },
   "outputs": [],
   "source": [
    "# Importes nativo de Python\n",
    "import re\n",
    "import random\n",
    "\n",
    "# Librerías\n",
    "import numpy as np\n",
    "import pandas as pd\n",
    "import matplotlib.pyplot as plt\n",
    "import seaborn as sns\n",
    "import plotly.express as px\n",
    "\n",
    "# Bibliotecas\n",
    "from nltk.corpus import stopwords\n",
    "from nltk.tokenize import word_tokenize\n",
    "from nltk.stem import WordNetLemmatizer\n",
    "from sklearn.feature_extraction.text import TfidfVectorizer\n",
    "from sklearn.metrics.pairwise import cosine_similarity\n",
    "from sklearn.preprocessing import LabelEncoder\n"
   ]
  },
  {
   "cell_type": "code",
   "execution_count": 9,
   "id": "fp8fQEzGmZ7X",
   "metadata": {
    "id": "fp8fQEzGmZ7X"
   },
   "outputs": [],
   "source": [
    "# Dmitry tenemos todo el código explicado para tontos, no lo tengas en cuenta."
   ]
  },
  {
   "cell_type": "code",
   "execution_count": 10,
   "id": "Las_k4AeKELS",
   "metadata": {
    "id": "Las_k4AeKELS"
   },
   "outputs": [],
   "source": [
    "# LECTURA DE CSV´s"
   ]
  },
  {
   "cell_type": "code",
   "execution_count": 11,
   "id": "cHcfJkdzZm-G",
   "metadata": {
    "id": "cHcfJkdzZm-G"
   },
   "outputs": [
    {
     "name": "stdout",
     "output_type": "stream",
     "text": [
      "<class 'pandas.core.frame.DataFrame'>\n",
      "RangeIndex: 8809 entries, 0 to 8808\n",
      "Data columns (total 26 columns):\n",
      " #   Column        Non-Null Count  Dtype  \n",
      "---  ------        --------------  -----  \n",
      " 0   show_id       8809 non-null   object \n",
      " 1   type          8809 non-null   object \n",
      " 2   title         8809 non-null   object \n",
      " 3   director      6175 non-null   object \n",
      " 4   cast          7984 non-null   object \n",
      " 5   country       7978 non-null   object \n",
      " 6   date_added    8799 non-null   object \n",
      " 7   release_year  8809 non-null   int64  \n",
      " 8   rating        8805 non-null   object \n",
      " 9   duration      8806 non-null   object \n",
      " 10  listed_in     8809 non-null   object \n",
      " 11  description   8809 non-null   object \n",
      " 12  Unnamed: 12   0 non-null      float64\n",
      " 13  Unnamed: 13   0 non-null      float64\n",
      " 14  Unnamed: 14   0 non-null      float64\n",
      " 15  Unnamed: 15   0 non-null      float64\n",
      " 16  Unnamed: 16   0 non-null      float64\n",
      " 17  Unnamed: 17   0 non-null      float64\n",
      " 18  Unnamed: 18   0 non-null      float64\n",
      " 19  Unnamed: 19   0 non-null      float64\n",
      " 20  Unnamed: 20   0 non-null      float64\n",
      " 21  Unnamed: 21   0 non-null      float64\n",
      " 22  Unnamed: 22   0 non-null      float64\n",
      " 23  Unnamed: 23   0 non-null      float64\n",
      " 24  Unnamed: 24   0 non-null      float64\n",
      " 25  Unnamed: 25   0 non-null      float64\n",
      "dtypes: float64(14), int64(1), object(11)\n",
      "memory usage: 1.7+ MB\n"
     ]
    }
   ],
   "source": [
    "df = pd.read_csv(\"netflix_titles.csv\", encoding='latin1')\n",
    "df.info()\n"
   ]
  },
  {
   "cell_type": "code",
   "execution_count": 12,
   "id": "gf88BZ9c_JJP",
   "metadata": {
    "id": "gf88BZ9c_JJP"
   },
   "outputs": [
    {
     "name": "stdout",
     "output_type": "stream",
     "text": [
      "<class 'pandas.core.frame.DataFrame'>\n",
      "RangeIndex: 17769 entries, 0 to 17768\n",
      "Data columns (total 6 columns):\n",
      " #   Column           Non-Null Count  Dtype  \n",
      "---  ------           --------------  -----  \n",
      " 0   1                17769 non-null  int64  \n",
      " 1   2003             17762 non-null  float64\n",
      " 2   Dinosaur Planet  17769 non-null  object \n",
      " 3   Unnamed: 3       335 non-null    object \n",
      " 4   Unnamed: 4       34 non-null     object \n",
      " 5   Unnamed: 5       9 non-null      object \n",
      "dtypes: float64(1), int64(1), object(4)\n",
      "memory usage: 833.1+ KB\n"
     ]
    }
   ],
   "source": [
    "df1 = pd.read_csv(\"movie_titles_nuevo.csv\", encoding='ISO-8859-1')\n",
    "df1.info()"
   ]
  },
  {
   "cell_type": "code",
   "execution_count": 13,
   "id": "vkfFkZJgGq5P",
   "metadata": {
    "id": "vkfFkZJgGq5P"
   },
   "outputs": [],
   "source": [
    "# LIMPIEZA DF (8809 Peliculas ),DF1 (17769 Peliculas valoradas por usuarios)"
   ]
  },
  {
   "cell_type": "code",
   "execution_count": 14,
   "id": "Gaz2x4YKG1Ax",
   "metadata": {
    "id": "Gaz2x4YKG1Ax"
   },
   "outputs": [
    {
     "data": {
      "text/html": [
       "<div>\n",
       "<style scoped>\n",
       "    .dataframe tbody tr th:only-of-type {\n",
       "        vertical-align: middle;\n",
       "    }\n",
       "\n",
       "    .dataframe tbody tr th {\n",
       "        vertical-align: top;\n",
       "    }\n",
       "\n",
       "    .dataframe thead th {\n",
       "        text-align: right;\n",
       "    }\n",
       "</style>\n",
       "<table border=\"1\" class=\"dataframe\">\n",
       "  <thead>\n",
       "    <tr style=\"text-align: right;\">\n",
       "      <th></th>\n",
       "      <th>title</th>\n",
       "    </tr>\n",
       "  </thead>\n",
       "  <tbody>\n",
       "    <tr>\n",
       "      <th>0</th>\n",
       "      <td>dick johnson is dead</td>\n",
       "    </tr>\n",
       "    <tr>\n",
       "      <th>1</th>\n",
       "      <td>blood &amp; water</td>\n",
       "    </tr>\n",
       "    <tr>\n",
       "      <th>2</th>\n",
       "      <td>ganglands</td>\n",
       "    </tr>\n",
       "    <tr>\n",
       "      <th>3</th>\n",
       "      <td>jailbirds new orleans</td>\n",
       "    </tr>\n",
       "    <tr>\n",
       "      <th>4</th>\n",
       "      <td>kota factory</td>\n",
       "    </tr>\n",
       "    <tr>\n",
       "      <th>...</th>\n",
       "      <td>...</td>\n",
       "    </tr>\n",
       "    <tr>\n",
       "      <th>8804</th>\n",
       "      <td>zombieland</td>\n",
       "    </tr>\n",
       "    <tr>\n",
       "      <th>8805</th>\n",
       "      <td>zoom</td>\n",
       "    </tr>\n",
       "    <tr>\n",
       "      <th>8806</th>\n",
       "      <td>zubaan</td>\n",
       "    </tr>\n",
       "    <tr>\n",
       "      <th>8807</th>\n",
       "      <td>parasyte: the grey</td>\n",
       "    </tr>\n",
       "    <tr>\n",
       "      <th>8808</th>\n",
       "      <td>serena</td>\n",
       "    </tr>\n",
       "  </tbody>\n",
       "</table>\n",
       "<p>8806 rows × 1 columns</p>\n",
       "</div>"
      ],
      "text/plain": [
       "                      title\n",
       "0      dick johnson is dead\n",
       "1             blood & water\n",
       "2                 ganglands\n",
       "3     jailbirds new orleans\n",
       "4              kota factory\n",
       "...                     ...\n",
       "8804             zombieland\n",
       "8805                   zoom\n",
       "8806                 zubaan\n",
       "8807     parasyte: the grey\n",
       "8808                 serena\n",
       "\n",
       "[8806 rows x 1 columns]"
      ]
     },
     "execution_count": 14,
     "metadata": {},
     "output_type": "execute_result"
    }
   ],
   "source": [
    "df = df.drop(columns=df.columns[12:26]) #columnas que solo tienen nan´h\n",
    "df = df.drop(columns=['show_id', 'date_added']) #columnas no relevantes para recomendaciones\n",
    "titulos_columnas = df.columns\n",
    "#df.to_csv(\"netflix_titles_drop.csv\", index=False) #guardo un nuevo csv quitando las columnas sin ningun valor\n",
    "#df = pd.read_csv(\"netflix_titles_drop.csv\")\n",
    "df = df.drop_duplicates()\n",
    "df[[\"title\"]].applymap(lambda x : x.lower())"
   ]
  },
  {
   "cell_type": "code",
   "execution_count": 15,
   "id": "r1Hv3XeRKf3x",
   "metadata": {
    "id": "r1Hv3XeRKf3x"
   },
   "outputs": [],
   "source": [
    "# Función que modifica la columna \"listed_in\" (generos de las películas)\n",
    "def reemplazar_generos(listed_in, generos):\n",
    "    if isinstance(listed_in, str):\n",
    "        generos_lista = listed_in.split(', ')\n",
    "        generos_reemplazados = [generos.get(g, g) for g in generos_lista]\n",
    "        return ', '.join(generos_reemplazados)\n",
    "    return listed_in"
   ]
  },
  {
   "cell_type": "code",
   "execution_count": 16,
   "id": "WVxtDT12Kl5P",
   "metadata": {
    "id": "WVxtDT12Kl5P"
   },
   "outputs": [],
   "source": [
    "generos = {\n",
    "    'thrillers': 'Thrillers',\n",
    "    'thriller' : 'Thrillers',\n",
    "    'tv thrillers': 'Thrillers',\n",
    "    'tv mysteries' : 'Thrillers',\n",
    "    'teen tv shows' : 'Teen tv shows',\n",
    "    'children & family movies': 'Family',\n",
    "    \"kids' tv\" : 'Family',\n",
    "    'romantic tv shows' : 'Romance',\n",
    "    'romantic movies' : 'Romance',\n",
    "    'romance' : 'Romance',\n",
    "    'tv action & adventure' : 'Action',\n",
    "    'action & adventure' : 'Action',\n",
    "    'action' : 'Action',\n",
    "    'horror' : 'Horror',\n",
    "    'horror movies' : 'Horror',\n",
    "    'tv horror' : 'Horror',\n",
    "    'cult movies' : 'Classic',\n",
    "    'classic & cult tv' : 'Classic',\n",
    "    'classic movies' : 'Classic',\n",
    "    'drama' : 'Drama',\n",
    "    'dramas' : 'Drama',\n",
    "    'tv dramas' : 'Drama',\n",
    "    'comedies' : 'Comedy',\n",
    "    'stand-up comedy & talk shows' : 'Comedy',\n",
    "    'tv comedies' : 'Comedy',\n",
    "    'stand-up comedy' : 'Comedy',\n",
    "    'crime tv shows' : 'Crime tv shows',\n",
    "    'independent movies' : 'Independent movies',\n",
    "    'tv sci-fi & fantasy' : 'Sci-fi',\n",
    "    'sci-fi' : 'Sci-fi',\n",
    "    'sci-fi & fantasy' : 'Sci-fi',\n",
    "    'music & musicals' : 'Music & musicals',\n",
    "    'anime features' : 'Anime',\n",
    "    'anime series' : 'Anime',\n",
    "    'documentaries' : 'Documentary',\n",
    "    'docuseries' : 'Documentary',\n",
    "    'korean tv shows' : 'World movies and shows',\n",
    "    'british tv shows' : 'World movies and shows',\n",
    "    'spanish-language tv shows' : 'World movies and shows',\n",
    "    'international tv shows' : 'World movies and shows',\n",
    "    'international movies' : 'World movies and shows',\n",
    "    'reality tv' : 'Reality tv',\n",
    "    'faith & spirituality' : 'Faith & spirituality',\n",
    "    'lgbtq movies' : 'Lgbtq movies',\n",
    "    'science & nature tv' : 'Science & nature tv',\n",
    "    'sports movies' : 'Sports movies'\n",
    "        }"
   ]
  },
  {
   "cell_type": "code",
   "execution_count": 17,
   "id": "xu53odYFKqFn",
   "metadata": {
    "id": "xu53odYFKqFn"
   },
   "outputs": [],
   "source": [
    "df['listed_in'] = df[[\"listed_in\"]].applymap(lambda x : x.lower())\n",
    "df['listed_in'] = df['listed_in'].apply(reemplazar_generos, args=(generos,))\n"
   ]
  },
  {
   "cell_type": "code",
   "execution_count": 18,
   "id": "KtoTrUv5lmfz",
   "metadata": {
    "id": "KtoTrUv5lmfz"
   },
   "outputs": [
    {
     "data": {
      "text/html": [
       "<div>\n",
       "<style scoped>\n",
       "    .dataframe tbody tr th:only-of-type {\n",
       "        vertical-align: middle;\n",
       "    }\n",
       "\n",
       "    .dataframe tbody tr th {\n",
       "        vertical-align: top;\n",
       "    }\n",
       "\n",
       "    .dataframe thead th {\n",
       "        text-align: right;\n",
       "    }\n",
       "</style>\n",
       "<table border=\"1\" class=\"dataframe\">\n",
       "  <thead>\n",
       "    <tr style=\"text-align: right;\">\n",
       "      <th></th>\n",
       "      <th>title</th>\n",
       "    </tr>\n",
       "  </thead>\n",
       "  <tbody>\n",
       "    <tr>\n",
       "      <th>0</th>\n",
       "      <td>isle of man tt 2004 review</td>\n",
       "    </tr>\n",
       "    <tr>\n",
       "      <th>1</th>\n",
       "      <td>character</td>\n",
       "    </tr>\n",
       "    <tr>\n",
       "      <th>2</th>\n",
       "      <td>paula abdul's get up &amp; dance</td>\n",
       "    </tr>\n",
       "    <tr>\n",
       "      <th>3</th>\n",
       "      <td>the rise and fall of ecw</td>\n",
       "    </tr>\n",
       "    <tr>\n",
       "      <th>4</th>\n",
       "      <td>sick</td>\n",
       "    </tr>\n",
       "    <tr>\n",
       "      <th>...</th>\n",
       "      <td>...</td>\n",
       "    </tr>\n",
       "    <tr>\n",
       "      <th>17764</th>\n",
       "      <td>where the wild things are and other maurice se...</td>\n",
       "    </tr>\n",
       "    <tr>\n",
       "      <th>17765</th>\n",
       "      <td>fidel castro: american experience</td>\n",
       "    </tr>\n",
       "    <tr>\n",
       "      <th>17766</th>\n",
       "      <td>epoch</td>\n",
       "    </tr>\n",
       "    <tr>\n",
       "      <th>17767</th>\n",
       "      <td>the company</td>\n",
       "    </tr>\n",
       "    <tr>\n",
       "      <th>17768</th>\n",
       "      <td>alien hunter</td>\n",
       "    </tr>\n",
       "  </tbody>\n",
       "</table>\n",
       "<p>17769 rows × 1 columns</p>\n",
       "</div>"
      ],
      "text/plain": [
       "                                                   title\n",
       "0                             isle of man tt 2004 review\n",
       "1                                              character\n",
       "2                           paula abdul's get up & dance\n",
       "3                               the rise and fall of ecw\n",
       "4                                                   sick\n",
       "...                                                  ...\n",
       "17764  where the wild things are and other maurice se...\n",
       "17765                  fidel castro: american experience\n",
       "17766                                              epoch\n",
       "17767                                        the company\n",
       "17768                                       alien hunter\n",
       "\n",
       "[17769 rows x 1 columns]"
      ]
     },
     "execution_count": 18,
     "metadata": {},
     "output_type": "execute_result"
    }
   ],
   "source": [
    "df1 = df1.drop(columns=df1.columns[3:]) #columnas que solo tienen nan´h\n",
    "df1 = df1.rename(columns={'1': 'Movie_Id', '2003': 'Year', \"Dinosaur Planet\": \"title\"})\n",
    "df1[[\"title\"]].applymap(lambda x : x.lower())"
   ]
  },
  {
   "cell_type": "code",
   "execution_count": 19,
   "id": "0a3435a9-546e-4360-8215-1767589f02d1",
   "metadata": {
    "id": "0a3435a9-546e-4360-8215-1767589f02d1"
   },
   "outputs": [],
   "source": [
    "# .MERGE DE DF Y DF1 , OBTENCIÓN DE PELÍCULAS COINCIDENTES ENTRE AMBOS DF"
   ]
  },
  {
   "cell_type": "code",
   "execution_count": 20,
   "id": "e80e815f-dc6c-490d-aea2-8582cb758e79",
   "metadata": {
    "id": "e80e815f-dc6c-490d-aea2-8582cb758e79"
   },
   "outputs": [],
   "source": [
    "df[\"titleyear\"] = df[\"title\"] + \" \" + df[\"release_year\"].astype(str)"
   ]
  },
  {
   "cell_type": "code",
   "execution_count": 21,
   "id": "5gS4nV0gLSZ7",
   "metadata": {
    "id": "5gS4nV0gLSZ7"
   },
   "outputs": [
    {
     "data": {
      "text/html": [
       "<div>\n",
       "<style scoped>\n",
       "    .dataframe tbody tr th:only-of-type {\n",
       "        vertical-align: middle;\n",
       "    }\n",
       "\n",
       "    .dataframe tbody tr th {\n",
       "        vertical-align: top;\n",
       "    }\n",
       "\n",
       "    .dataframe thead th {\n",
       "        text-align: right;\n",
       "    }\n",
       "</style>\n",
       "<table border=\"1\" class=\"dataframe\">\n",
       "  <thead>\n",
       "    <tr style=\"text-align: right;\">\n",
       "      <th></th>\n",
       "      <th>Movie_Id</th>\n",
       "      <th>Year</th>\n",
       "      <th>title</th>\n",
       "      <th>titleyear</th>\n",
       "    </tr>\n",
       "  </thead>\n",
       "  <tbody>\n",
       "    <tr>\n",
       "      <th>0</th>\n",
       "      <td>2</td>\n",
       "      <td>2004</td>\n",
       "      <td>Isle of Man TT 2004 Review</td>\n",
       "      <td>Isle of Man TT 2004 Review 2004</td>\n",
       "    </tr>\n",
       "    <tr>\n",
       "      <th>1</th>\n",
       "      <td>3</td>\n",
       "      <td>1997</td>\n",
       "      <td>Character</td>\n",
       "      <td>Character 1997</td>\n",
       "    </tr>\n",
       "    <tr>\n",
       "      <th>2</th>\n",
       "      <td>4</td>\n",
       "      <td>1994</td>\n",
       "      <td>Paula Abdul's Get Up &amp; Dance</td>\n",
       "      <td>Paula Abdul's Get Up &amp; Dance 1994</td>\n",
       "    </tr>\n",
       "    <tr>\n",
       "      <th>3</th>\n",
       "      <td>5</td>\n",
       "      <td>2004</td>\n",
       "      <td>The Rise and Fall of ECW</td>\n",
       "      <td>The Rise and Fall of ECW 2004</td>\n",
       "    </tr>\n",
       "    <tr>\n",
       "      <th>4</th>\n",
       "      <td>6</td>\n",
       "      <td>1997</td>\n",
       "      <td>Sick</td>\n",
       "      <td>Sick 1997</td>\n",
       "    </tr>\n",
       "    <tr>\n",
       "      <th>...</th>\n",
       "      <td>...</td>\n",
       "      <td>...</td>\n",
       "      <td>...</td>\n",
       "      <td>...</td>\n",
       "    </tr>\n",
       "    <tr>\n",
       "      <th>17764</th>\n",
       "      <td>17766</td>\n",
       "      <td>2002</td>\n",
       "      <td>Where the Wild Things Are and Other Maurice Se...</td>\n",
       "      <td>Where the Wild Things Are and Other Maurice Se...</td>\n",
       "    </tr>\n",
       "    <tr>\n",
       "      <th>17765</th>\n",
       "      <td>17767</td>\n",
       "      <td>2004</td>\n",
       "      <td>Fidel Castro: American Experience</td>\n",
       "      <td>Fidel Castro: American Experience 2004</td>\n",
       "    </tr>\n",
       "    <tr>\n",
       "      <th>17766</th>\n",
       "      <td>17768</td>\n",
       "      <td>2000</td>\n",
       "      <td>Epoch</td>\n",
       "      <td>Epoch 2000</td>\n",
       "    </tr>\n",
       "    <tr>\n",
       "      <th>17767</th>\n",
       "      <td>17769</td>\n",
       "      <td>2003</td>\n",
       "      <td>The Company</td>\n",
       "      <td>The Company 2003</td>\n",
       "    </tr>\n",
       "    <tr>\n",
       "      <th>17768</th>\n",
       "      <td>17770</td>\n",
       "      <td>2003</td>\n",
       "      <td>Alien Hunter</td>\n",
       "      <td>Alien Hunter 2003</td>\n",
       "    </tr>\n",
       "  </tbody>\n",
       "</table>\n",
       "<p>17769 rows × 4 columns</p>\n",
       "</div>"
      ],
      "text/plain": [
       "       Movie_Id  Year                                              title  \\\n",
       "0             2  2004                         Isle of Man TT 2004 Review   \n",
       "1             3  1997                                          Character   \n",
       "2             4  1994                       Paula Abdul's Get Up & Dance   \n",
       "3             5  2004                           The Rise and Fall of ECW   \n",
       "4             6  1997                                               Sick   \n",
       "...         ...   ...                                                ...   \n",
       "17764     17766  2002  Where the Wild Things Are and Other Maurice Se...   \n",
       "17765     17767  2004                  Fidel Castro: American Experience   \n",
       "17766     17768  2000                                              Epoch   \n",
       "17767     17769  2003                                        The Company   \n",
       "17768     17770  2003                                       Alien Hunter   \n",
       "\n",
       "                                               titleyear  \n",
       "0                        Isle of Man TT 2004 Review 2004  \n",
       "1                                         Character 1997  \n",
       "2                      Paula Abdul's Get Up & Dance 1994  \n",
       "3                          The Rise and Fall of ECW 2004  \n",
       "4                                              Sick 1997  \n",
       "...                                                  ...  \n",
       "17764  Where the Wild Things Are and Other Maurice Se...  \n",
       "17765             Fidel Castro: American Experience 2004  \n",
       "17766                                         Epoch 2000  \n",
       "17767                                   The Company 2003  \n",
       "17768                                  Alien Hunter 2003  \n",
       "\n",
       "[17769 rows x 4 columns]"
      ]
     },
     "execution_count": 21,
     "metadata": {},
     "output_type": "execute_result"
    }
   ],
   "source": [
    "df1[\"Year\"] = df1[\"Year\"].replace([np.inf, -np.inf, np.nan], 0)\n",
    "df1[\"Year\"] = df1[\"Year\"].astype(int)\n",
    "df1[\"titleyear\"] = df1[\"title\"] + \" \" + df1[\"Year\"].astype(str)\n",
    "df1"
   ]
  },
  {
   "cell_type": "code",
   "execution_count": 22,
   "id": "g8wyCIZiLmuC",
   "metadata": {
    "id": "g8wyCIZiLmuC"
   },
   "outputs": [],
   "source": [
    "dfm = pd.merge(left = df, right = df1, left_on = \"titleyear\", right_on = \"titleyear\", how = \"inner\")\n",
    "#dfm.to_csv(\"merge.csv\", index=False)\n",
    "#dfm = pd.read_csv(\"merge.csv\")"
   ]
  },
  {
   "cell_type": "code",
   "execution_count": 23,
   "id": "AJZSrwYAMn2-",
   "metadata": {
    "id": "AJZSrwYAMn2-"
   },
   "outputs": [],
   "source": [
    "# Lectura de las valoraciones juntamos en un dataframe y filtrado de valoraciones y quedarnos con los valoraciones de las peliculas que nos coinciden"
   ]
  },
  {
   "cell_type": "code",
   "execution_count": 24,
   "id": "bMwDhVWDi-_1",
   "metadata": {
    "id": "bMwDhVWDi-_1"
   },
   "outputs": [],
   "source": [
    "# Las próximas celdas le hacemos una función para la lectura de los .txt  y también dejamos comentamos el código normal por si \"peta\" tu ordenador."
   ]
  },
  {
   "cell_type": "code",
   "execution_count": 25,
   "id": "56724243-2b3d-4abb-a61a-fa1b12f07d34",
   "metadata": {},
   "outputs": [],
   "source": [
    "def lectura_limpieza_txt(data):\n",
    "    df = pd.read_csv(data, header = None, names = ['Cust_Id', 'Rating'], usecols = [0,1])\n",
    "    df['Movie_Id'] = df[df['Rating'].isna()]['Cust_Id'].str.replace(':', '')\n",
    "    df['Movie_Id'].fillna(method='ffill', inplace=True)\n",
    "    df.dropna(subset='Rating', inplace=True)\n",
    "    return df;\n",
    "lista_txt = [\"combined_data_1.txt\",\"combined_data_2.txt\",\"combined_data_3.txt\",\"combined_data_4.txt\"]\n",
    "df2 = lectura_limpieza_txt(lista_txt[0])\n",
    "df3 = lectura_limpieza_txt(lista_txt[1])\n",
    "df4 = lectura_limpieza_txt(lista_txt[2])\n",
    "df5 = lectura_limpieza_txt(lista_txt[3])"
   ]
  },
  {
   "cell_type": "code",
   "execution_count": 26,
   "id": "9pxFRuIBrRxH",
   "metadata": {
    "id": "9pxFRuIBrRxH"
   },
   "outputs": [],
   "source": [
    "# df2 = pd.read_csv('combined_data_1.txt', header = None, names = ['Cust_Id', 'Rating'], usecols = [0,1])\n",
    "# df2['Movie_Id'] = df2[df2['Rating'].isna()]['Cust_Id'].str.replace(':', '')\n",
    "# df2['Movie_Id'].fillna(method='ffill', inplace=True)\n",
    "# df2.dropna(subset='Rating', inplace=True)"
   ]
  },
  {
   "cell_type": "code",
   "execution_count": 27,
   "id": "cbIR6FudrX66",
   "metadata": {
    "id": "cbIR6FudrX66"
   },
   "outputs": [],
   "source": [
    "# df3 = pd.read_csv('combined_data_2.txt', header = None, names = ['Cust_Id', 'Rating'], usecols = [0,1])\n",
    "# df3['Movie_Id'] = df3[df3['Rating'].isna()]['Cust_Id'].str.replace(':', '')\n",
    "# df3['Movie_Id'].fillna(method='ffill', inplace=True)\n",
    "# df3.dropna(subset='Rating', inplace=True)"
   ]
  },
  {
   "cell_type": "code",
   "execution_count": 28,
   "id": "Dsyot5Jxrelv",
   "metadata": {
    "id": "Dsyot5Jxrelv"
   },
   "outputs": [],
   "source": [
    "# df4 = pd.read_csv('combined_data_3.txt', header = None, names = ['Cust_Id', 'Rating'], usecols = [0,1])\n",
    "# df4['Movie_Id'] = df4[df4['Rating'].isna()]['Cust_Id'].str.replace(':', '')\n",
    "# df4['Movie_Id'].fillna(method='ffill', inplace=True)\n",
    "# df4.dropna(subset='Rating', inplace=True)"
   ]
  },
  {
   "cell_type": "code",
   "execution_count": 29,
   "id": "M5uZ2oWorfr3",
   "metadata": {
    "id": "M5uZ2oWorfr3"
   },
   "outputs": [],
   "source": [
    "# df5 = pd.read_csv('combined_data_4.txt', header = None, names = ['Cust_Id', 'Rating'], usecols = [0,1])\n",
    "# df5['Movie_Id'] = df5[df5['Rating'].isna()]['Cust_Id'].str.replace(':', '')\n",
    "# df5['Movie_Id'].fillna(method='ffill', inplace=True)\n",
    "# df5.dropna(subset='Rating', inplace=True)"
   ]
  },
  {
   "cell_type": "code",
   "execution_count": 30,
   "id": "zTET5rhSrlc0",
   "metadata": {
    "id": "zTET5rhSrlc0"
   },
   "outputs": [],
   "source": [
    " dfra = pd.concat([df2, df3, df4, df5], axis=0, ignore_index=True) # dfra es el data con los 100.000.000 de valoraciones"
   ]
  },
  {
   "cell_type": "code",
   "execution_count": 31,
   "id": "091CFRzFCfQD",
   "metadata": {
    "id": "091CFRzFCfQD"
   },
   "outputs": [
    {
     "name": "stderr",
     "output_type": "stream",
     "text": [
      "C:\\Users\\usuario\\AppData\\Local\\Temp\\ipykernel_10148\\2357871464.py:5: SettingWithCopyWarning: \n",
      "A value is trying to be set on a copy of a slice from a DataFrame.\n",
      "Try using .loc[row_indexer,col_indexer] = value instead\n",
      "\n",
      "See the caveats in the documentation: https://pandas.pydata.org/pandas-docs/stable/user_guide/indexing.html#returning-a-view-versus-a-copy\n",
      "  dfrating[\"Cust_Id\"] = dfrating[\"Cust_Id\"].astype(\"int64\")\n"
     ]
    }
   ],
   "source": [
    "dfra[\"Rating\"] = dfra[\"Rating\"].astype(\"int8\")\n",
    "dfra['Movie_Id'] = dfra['Movie_Id'].astype('int64')\n",
    "movies=dfm['Movie_Id'].tolist()\n",
    "dfrating = dfra[dfra['Movie_Id'].apply(lambda x: x in movies)]\n",
    "dfrating[\"Cust_Id\"] = dfrating[\"Cust_Id\"].astype(\"int64\")"
   ]
  },
  {
   "cell_type": "code",
   "execution_count": 32,
   "id": "2j5HwVm8Cgsa",
   "metadata": {
    "id": "2j5HwVm8Cgsa"
   },
   "outputs": [],
   "source": [
    "#dfrating.to_csv('rating2.csv', index=False)\n"
   ]
  },
  {
   "cell_type": "code",
   "execution_count": 33,
   "id": "atUql_6uLXIm",
   "metadata": {
    "id": "atUql_6uLXIm"
   },
   "outputs": [],
   "source": [
    "# LIMPIEZA DEL DFM (DATA DEL MERGE)"
   ]
  },
  {
   "cell_type": "code",
   "execution_count": 34,
   "id": "r2QVxDGrLW78",
   "metadata": {
    "id": "r2QVxDGrLW78"
   },
   "outputs": [
    {
     "data": {
      "text/plain": [
       "type            0\n",
       "title_x         0\n",
       "director        8\n",
       "cast            2\n",
       "country         6\n",
       "release_year    0\n",
       "rating          0\n",
       "duration        0\n",
       "listed_in       0\n",
       "description     0\n",
       "titleyear       0\n",
       "Movie_Id        0\n",
       "Year            0\n",
       "title_y         0\n",
       "dtype: int64"
      ]
     },
     "execution_count": 34,
     "metadata": {},
     "output_type": "execute_result"
    }
   ],
   "source": [
    "dfm.isna().sum()"
   ]
  },
  {
   "cell_type": "code",
   "execution_count": 35,
   "id": "FJdF6hzw-_V5",
   "metadata": {
    "id": "FJdF6hzw-_V5"
   },
   "outputs": [],
   "source": [
    "dfm = dfm.rename(columns={'rating': 'age'})\n",
    "dfm.rename(columns={'title_x': 'title'}, inplace=True)\n",
    "dfm = dfm.drop(columns=['titleyear','title_y','Year'])"
   ]
  },
  {
   "cell_type": "code",
   "execution_count": 36,
   "id": "WVRPJfYH--6f",
   "metadata": {
    "id": "WVRPJfYH--6f"
   },
   "outputs": [],
   "source": [
    "edades = {\n",
    "    'TV-MA': 18,\n",
    "    'TV-14': 14,\n",
    "    'PG-13': 13,\n",
    "    'PG': 8,\n",
    "    'R': 18,\n",
    "    'TV-PG': 8,\n",
    "    'G': 3,\n",
    "    'TV-Y7': 7,\n",
    "    'TV-G': 3,\n",
    "    'NR': 0,\n",
    "    'TV-Y': 3\n",
    "}\n",
    "dfm['age'] = dfm['age'].replace(edades)\n",
    "# En este proyecto no usamos la columna \"age\", es para el siguiente proyecto."
   ]
  },
  {
   "cell_type": "code",
   "execution_count": 37,
   "id": "uXHJj4oFYb9X",
   "metadata": {
    "id": "uXHJj4oFYb9X"
   },
   "outputs": [],
   "source": [
    "# DIRECTORES"
   ]
  },
  {
   "cell_type": "code",
   "execution_count": 38,
   "id": "xuukIgnYWO7h",
   "metadata": {
    "id": "xuukIgnYWO7h"
   },
   "outputs": [],
   "source": [
    "# # Reemplazamos NaN por \"desconocido\"\n",
    "# dfm['director'].fillna('desconocido', inplace=True)"
   ]
  },
  {
   "cell_type": "code",
   "execution_count": 39,
   "id": "EyLNQW2yWO3_",
   "metadata": {
    "id": "EyLNQW2yWO3_"
   },
   "outputs": [],
   "source": [
    "# # Obtenemos una lista de todos los directores únicos\n",
    "# directores_unicos = set()\n",
    "# for director in dfm['director'].dropna().values:\n",
    "#     directores_unicos.update(director.split(\", \"))\n",
    "\n",
    "# directores_unicos = list(directores_unicos)\n",
    "# label_encoder = LabelEncoder()\n",
    "# label_encoder.fit(directores_unicos)\n",
    "# dfm['director_codificado'] = dfm['director'].fillna(\"\").apply(lambda x: label_encoder.transform(x.split(\", \")) if x else [])"
   ]
  },
  {
   "cell_type": "code",
   "execution_count": 40,
   "id": "hVNMOnNZYkq_",
   "metadata": {
    "id": "hVNMOnNZYkq_"
   },
   "outputs": [],
   "source": [
    "# PAISES"
   ]
  },
  {
   "cell_type": "code",
   "execution_count": 41,
   "id": "zOhZjRBHWOwu",
   "metadata": {
    "id": "zOhZjRBHWOwu"
   },
   "outputs": [],
   "source": [
    "# # Reemplazamos NaN por \"desconocido\"\n",
    "# dfm['country'].fillna('desconocido', inplace=True)"
   ]
  },
  {
   "cell_type": "code",
   "execution_count": 42,
   "id": "bddXj7aaWOtT",
   "metadata": {
    "id": "bddXj7aaWOtT"
   },
   "outputs": [],
   "source": [
    "# # Dividimos los valores\n",
    "# dfm['country'] = dfm['country'].apply(lambda x: x.split(', ') if isinstance(x, str) else [])\n",
    "# df_expanded = dfm.explode('country')\n",
    "\n",
    "# paises_unicos = df_expanded['country'].unique()\n",
    "\n",
    "# # Creamos un objeto LabelEncoder y ajustarlo\n",
    "# label_encoder_paises = LabelEncoder()\n",
    "# label_encoder_paises.fit(paises_unicos)\n",
    "\n",
    "# # Añadimos una columna al DataFrame original 'dfm' con los valores numéricos de los países\n",
    "# dfm['pais_numero'] = dfm['country'].apply(lambda x: label_encoder_paises.transform(x) if isinstance(x, list) else [])\n"
   ]
  },
  {
   "cell_type": "code",
   "execution_count": 43,
   "id": "APWgjyTlYrIz",
   "metadata": {
    "id": "APWgjyTlYrIz"
   },
   "outputs": [],
   "source": [
    "# COLUMNA TYPE (PELICULA O SERIE)"
   ]
  },
  {
   "cell_type": "code",
   "execution_count": 44,
   "id": "XNDHXa47WOpK",
   "metadata": {
    "id": "XNDHXa47WOpK"
   },
   "outputs": [],
   "source": [
    "# tipo = {'Movie': 0, 'TV Show': 1} #reemplazamos tv show y pelicula por 0 y 1\n",
    "# dfm['type'] = dfm['type'].replace(tipo)\n"
   ]
  },
  {
   "cell_type": "code",
   "execution_count": 45,
   "id": "g499chpmeihJ",
   "metadata": {
    "id": "g499chpmeihJ"
   },
   "outputs": [],
   "source": [
    "# COLUMNA DURACION"
   ]
  },
  {
   "cell_type": "code",
   "execution_count": 46,
   "id": "CxU2j2clWOZs",
   "metadata": {
    "id": "CxU2j2clWOZs"
   },
   "outputs": [],
   "source": [
    "# Función para extraer el valor numérico de la duración\n",
    "# def extraer_numero(duracion):\n",
    "#     if isinstance(duracion, str):\n",
    "#         match = re.search(r'\\d+', duracion)\n",
    "#         if match:\n",
    "#             return int(match.group())\n",
    "#     return None\n",
    "\n",
    "\n",
    "# dfm_result['duration'] = dfm_result['duration'].apply(extraer_numero)"
   ]
  },
  {
   "cell_type": "code",
   "execution_count": 47,
   "id": "7Ee2MgaMWOPN",
   "metadata": {
    "id": "7Ee2MgaMWOPN"
   },
   "outputs": [],
   "source": [
    "# MODELO DE RECOMENDACION"
   ]
  },
  {
   "cell_type": "code",
   "execution_count": 48,
   "id": "zx0Lj0I4Sm2G",
   "metadata": {
    "id": "zx0Lj0I4Sm2G"
   },
   "outputs": [],
   "source": [
    "# Función que saca usuario_id aleatorio\n",
    "def sacar_id_usuario(df):\n",
    "    usuario = df[\"Cust_Id\"].value_counts()\n",
    "    filtrado = usuario[usuario > 4]\n",
    "    filtrado = filtrado.index.tolist()\n",
    "\n",
    "    return random.sample(filtrado, k=1)"
   ]
  },
  {
   "cell_type": "code",
   "execution_count": 49,
   "id": "HM6lfYMMh0HA",
   "metadata": {
    "id": "HM6lfYMMh0HA"
   },
   "outputs": [
    {
     "name": "stdout",
     "output_type": "stream",
     "text": [
      "El número de peliculas valoradas por el usuario es: 12\n"
     ]
    }
   ],
   "source": [
    "#  dfrating = pd.read_csv('rating2.csv')\n",
    "# dfmo = pd.read_csv(\"merge.csv\")\n",
    "# dfre = pd.read_csv('netflix_titles_drop.csv')\n",
    "dfmo = dfm\n",
    "dfre = df\n",
    "id_usuario= sacar_id_usuario(dfrating)\n",
    "#Juntamos en un dataframe la valoracion del usuario con los datos de la peliculas\n",
    "df_filtrado = dfrating[dfrating['Cust_Id'] == id_usuario[0]]\n",
    "dfme = pd.merge(left = df_filtrado, right = dfmo, left_on = \"Movie_Id\", right_on = \"Movie_Id\", how = \"inner\")\n",
    "print(\"El número de peliculas valoradas por el usuario es:\", dfme.shape[0])"
   ]
  },
  {
   "cell_type": "code",
   "execution_count": 50,
   "id": "9gA-vvrXh6wD",
   "metadata": {
    "id": "9gA-vvrXh6wD"
   },
   "outputs": [
    {
     "data": {
      "text/plain": [
       "Romance         0.100000\n",
       "Classic         0.088889\n",
       "Comedy          0.233333\n",
       "Lgbtq movies    0.044444\n",
       "Sci-fi          0.033333\n",
       "Horror          0.044444\n",
       "Thrillers       0.155556\n",
       "Drama           0.133333\n",
       "Action          0.111111\n",
       "Family          0.055556\n",
       "dtype: float64"
      ]
     },
     "execution_count": 50,
     "metadata": {},
     "output_type": "execute_result"
    }
   ],
   "source": [
    "#generacion de los pesos por genero de cada usuario#\n",
    "categorias_unicas = set()\n",
    "for genero in dfme['listed_in'].values:\n",
    "    generos = genero.split(\", \")\n",
    "    categorias_unicas.update(generos)\n",
    "\n",
    "categorias_unicas = list(categorias_unicas)\n",
    "\n",
    "datos = []\n",
    "\n",
    "for row in dfme[dfme[\"Rating\"] > 0][\"listed_in\"].values:\n",
    "\n",
    "    categorias_peliculas = list()\n",
    "\n",
    "    for cat in categorias_unicas:\n",
    "\n",
    "        if cat in row.split(\", \"):\n",
    "            categorias_peliculas.append(1)\n",
    "        else:\n",
    "            categorias_peliculas.append(0)\n",
    "\n",
    "    datos.append(categorias_peliculas)\n",
    "#categorias_peliculas.append(int(cat in row.split(\", \")))\n",
    "\n",
    "df_generos_peliculas = pd.DataFrame(data = datos, columns = list(categorias_unicas))\n",
    "df_filtrado.reset_index(drop=True, inplace=True)\n",
    "\n",
    "weighted_genre_matrix = pd.concat([df_filtrado, df_generos_peliculas], axis = 1)\n",
    "weighted_genre_matrix = (weighted_genre_matrix[categorias_unicas].values.T * weighted_genre_matrix['Rating'].values).T\n",
    "weighted_genre_matrix = pd.DataFrame(weighted_genre_matrix, columns = categorias_unicas)\n",
    "\n",
    "usuario_pesos = weighted_genre_matrix.sum()\n",
    "\n",
    "usuario_pesos = usuario_pesos / usuario_pesos.sum()\n",
    "\n",
    "usuario_pesos"
   ]
  },
  {
   "cell_type": "code",
   "execution_count": 51,
   "id": "pw0g4_lDiF6B",
   "metadata": {
    "id": "pw0g4_lDiF6B"
   },
   "outputs": [],
   "source": [
    "#creo dataframe columnas por cada genero (en los pesos del usuario) y genero puntuacion por genero\n",
    "datos = []\n",
    "for row in dfre['listed_in'].values:\n",
    "    categorias_peliculas = list()\n",
    "    for cat in categorias_unicas:\n",
    "        if cat in row.split(\", \"):\n",
    "            categorias_peliculas.append(1)\n",
    "        else:\n",
    "            categorias_peliculas.append(0)\n",
    "    datos.append(categorias_peliculas)\n",
    "\n",
    "df_generos_peliculas = pd.DataFrame(data=datos, columns=list(categorias_unicas))\n",
    "dfre2 = pd.concat([dfre, df_generos_peliculas], axis=1)\n",
    "dfre['Puntuacionge'] = (dfre2[categorias_unicas] * usuario_pesos).sum(axis=1)"
   ]
  },
  {
   "cell_type": "code",
   "execution_count": 52,
   "id": "1zRetNZXiJ6B",
   "metadata": {
    "id": "1zRetNZXiJ6B"
   },
   "outputs": [
    {
     "data": {
      "text/plain": [
       "Barbra Streisand     0.08\n",
       "Barry Levinson       0.08\n",
       "Barry Sonnenfeld     0.06\n",
       "Gary Fleder          0.10\n",
       "Garry Marshall       0.10\n",
       "Dominic Sena         0.04\n",
       "Lee Tamahori         0.10\n",
       "Hugh WIlson          0.10\n",
       "Peter Segal          0.08\n",
       "Mathieu Kassovitz    0.08\n",
       "Jonathan Demme       0.08\n",
       "Jon Turteltaub       0.10\n",
       "dtype: float64"
      ]
     },
     "execution_count": 52,
     "metadata": {},
     "output_type": "execute_result"
    }
   ],
   "source": [
    "#generacion de pesos del usuario por director\n",
    "dfm2=dfme.dropna(subset = ['director'])\n",
    "dfm2.reset_index(drop=True, inplace=True)\n",
    "directores = dfm2['director'].unique().tolist()\n",
    "\n",
    "datos_directores = []\n",
    "\n",
    "for row in dfm2[dfm2[\"Rating\"] > 0][\"director\"].values:\n",
    "\n",
    "    c_directores = []\n",
    "\n",
    "    for director in directores :\n",
    "\n",
    "\n",
    "        if director == row:\n",
    "            c_directores.append(1)\n",
    "        else:\n",
    "            c_directores.append(0)\n",
    "\n",
    "\n",
    "    datos_directores.append(c_directores)\n",
    "\n",
    "\n",
    "df_directores = pd.DataFrame(data = datos_directores, columns = list(directores))\n",
    "\n",
    "weighted_genre_matrix2 = pd.concat([dfm2, df_directores], axis = 1)\n",
    "weighted_genre_matrix2 = (weighted_genre_matrix2[directores].values.T * weighted_genre_matrix2['Rating'].values).T\n",
    "weighted_genre_matrix2 = pd.DataFrame(weighted_genre_matrix2, columns = directores )\n",
    "usuario_d = weighted_genre_matrix2.sum()\n",
    "\n",
    "usuario_d = usuario_d / usuario_d.sum()\n",
    "\n",
    "usuario_d"
   ]
  },
  {
   "cell_type": "code",
   "execution_count": 53,
   "id": "byFvAe5MiVNO",
   "metadata": {
    "id": "byFvAe5MiVNO"
   },
   "outputs": [],
   "source": [
    "# generar dataframe columnas por cada director (en los pesos del usuario) y generar puntuacion por director\n",
    "datos_directores = []\n",
    "\n",
    "for row in dfre['director'].values:\n",
    "\n",
    "    c_directores = []\n",
    "\n",
    "    for director in directores :\n",
    "\n",
    "\n",
    "        if director == row:\n",
    "            c_directores.append(1)\n",
    "        else:\n",
    "            c_directores.append(0)\n",
    "\n",
    "\n",
    "    datos_directores.append(c_directores)\n",
    "\n",
    "\n",
    "df_directores = pd.DataFrame(data=datos_directores, columns=list(directores))\n",
    "dfre3 = pd.concat([dfre, df_directores], axis=1)\n",
    "dfre[\"Puntuaciond\"]= (dfre3[directores] * usuario_d).sum(axis=1)"
   ]
  },
  {
   "cell_type": "code",
   "execution_count": 54,
   "id": "KBZuYpo5ieIG",
   "metadata": {
    "id": "KBZuYpo5ieIG"
   },
   "outputs": [
    {
     "data": {
      "text/plain": [
       "Jay O. Sanders       0.018315\n",
       "Dan Hedaya           0.009158\n",
       "Robert Downey Jr.    0.007326\n",
       "Halle Berry          0.010989\n",
       "Ron Vawter           0.007326\n",
       "                       ...   \n",
       "Dorian Harewood      0.007326\n",
       "Lisa Summerour       0.007326\n",
       "Justin Bartha        0.009158\n",
       "Rob Reiner           0.009158\n",
       "Jane Morris          0.009158\n",
       "Length: 127, dtype: float64"
      ]
     },
     "execution_count": 54,
     "metadata": {},
     "output_type": "execute_result"
    }
   ],
   "source": [
    "#generacion de pesos del usuario por actor\n",
    "dfme['cast'] = dfme['cast'].fillna('')\n",
    "actores_unicos = set()\n",
    "for actor in dfme['cast'].values:\n",
    "    actores = actor.split(\", \")\n",
    "    actores_unicos.update(actores)\n",
    "\n",
    "actores_unicos = list(actores_unicos)\n",
    "\n",
    "\n",
    "\n",
    "datos = []\n",
    "\n",
    "for row in dfme[dfme[\"Rating\"] > 0][\"cast\"].values:\n",
    "\n",
    "    actores_peliculas = list()\n",
    "\n",
    "    for cat in actores_unicos:\n",
    "\n",
    "        if cat in row.split(\", \"):\n",
    "            actores_peliculas.append(1)\n",
    "        else:\n",
    "            actores_peliculas.append(0)\n",
    "\n",
    "    datos.append(actores_peliculas)\n",
    "\n",
    "\n",
    "df_actores_peliculas = pd.DataFrame(data = datos, columns = list(actores_unicos))\n",
    "df_filtrado.reset_index(drop=True, inplace=True)\n",
    "\n",
    "weighted_genre_matrix = pd.concat([df_filtrado, df_actores_peliculas], axis = 1)\n",
    "weighted_genre_matrix = (weighted_genre_matrix[actores_unicos].values.T * weighted_genre_matrix['Rating'].values).T\n",
    "weighted_genre_matrix = pd.DataFrame(weighted_genre_matrix, columns = actores_unicos)\n",
    "\n",
    "usuario_ac = weighted_genre_matrix.sum()\n",
    "\n",
    "usuario_ac = usuario_ac / usuario_ac.sum()\n",
    "\n",
    "usuario_ac"
   ]
  },
  {
   "cell_type": "code",
   "execution_count": 55,
   "id": "VZQaT-evjWm7",
   "metadata": {
    "id": "VZQaT-evjWm7"
   },
   "outputs": [],
   "source": [
    "# generar dataframe columnas por cada actor (en los pesos del usuario) y generar puntuacion por actor\n",
    "datos = []\n",
    "dfre['cast'] = dfre['cast'].fillna('')\n",
    "for row in dfre['cast'].values:\n",
    "    actores_peliculas = list()\n",
    "    for cat in actores_unicos:\n",
    "        if cat in row.split(\", \"):\n",
    "            actores_peliculas.append(1)\n",
    "        else:\n",
    "            actores_peliculas.append(0)\n",
    "    datos.append(actores_peliculas)\n",
    "\n",
    "df_actores_peliculas = pd.DataFrame(data=datos, columns=list(actores_unicos))\n",
    "dfre4 = pd.concat([dfre, df_actores_peliculas], axis=1)\n",
    "dfre[\"Puntuacionac\"]=(dfre4[actores_unicos] * usuario_ac).sum(axis=1)"
   ]
  },
  {
   "cell_type": "code",
   "execution_count": 56,
   "id": "nND0hbzpx3KH",
   "metadata": {
    "id": "nND0hbzpx3KH"
   },
   "outputs": [],
   "source": [
    "lemmatizer = WordNetLemmatizer()\n",
    "stop_words = set(stopwords.words('english'))\n",
    "\n",
    "def preprocess_text(text):\n",
    "    if text is None:\n",
    "        return \"\"\n",
    "    tokens = word_tokenize(text.lower())\n",
    "    tokens = [lemmatizer.lemmatize(word) for word in tokens if word.isalnum()]\n",
    "    tokens = [word for word in tokens if word not in stop_words]\n",
    "    return \" \".join(tokens)\n",
    "\n",
    "# Preprocesa las descripciones\n",
    "dfre5 = pd.DataFrame()\n",
    "dfre5['processed_description'] = dfre['description'].apply(preprocess_text)\n",
    "\n",
    "# Vectoriza las descripciones preprocesadas\n",
    "vectorizer = TfidfVectorizer()\n",
    "tfidf_matrix = vectorizer.fit_transform(dfre5['processed_description'])\n",
    "\n",
    "# Calcula la matriz de similitud de coseno\n",
    "similarity_matrix = cosine_similarity(tfidf_matrix, tfidf_matrix)\n",
    "\n",
    "# Define la función de recomendación\n",
    "def get_recommendations(movie_titles, similarity_matrix, df):\n",
    "    sim_scores_suma = [0] * len(df)\n",
    "    for movie_title in movie_titles:\n",
    "        idx = df.index[df['title'] == movie_title].tolist()[0]\n",
    "        sim_scores = list(enumerate(similarity_matrix[idx]))\n",
    "        for i, score in sim_scores:\n",
    "            if i != idx:  # Omitir la película misma\n",
    "                sim_scores_suma[i] += score\n",
    "\n",
    "    numero_movies = len(movie_titles)\n",
    "    sim_scores_media = [score / numero_movies for score in sim_scores_suma]\n",
    "\n",
    "\n",
    "    for i in range(len(df)):\n",
    "        df.at[i, 'Puntuacion_des'] = sim_scores_media[i]\n",
    "\n",
    "    return df"
   ]
  },
  {
   "cell_type": "code",
   "execution_count": 57,
   "id": "QexBRuqmx9Li",
   "metadata": {
    "id": "QexBRuqmx9Li"
   },
   "outputs": [],
   "source": [
    "if (dfme['Rating'] == 5).any():\n",
    "    peliculas_5 = dfme.loc[dfme['Rating'] == 5, 'title'].tolist()\n",
    "    if len(peliculas_5) == 1:\n",
    "        movie_title = peliculas_5[0]\n",
    "        dfre['Puntuacion_des'] = 0\n",
    "        dfre['Puntuacion_des'] = dfre['Puntuacion_des'].astype(float)\n",
    "        recommendations = get_recommendations([movie_title], similarity_matrix, dfre)\n",
    "    else:\n",
    "        dfre['Puntuacion_des'] = 0\n",
    "        dfre['Puntuacion_des'] = dfre['Puntuacion_des'].astype(float)\n",
    "        recommendations = get_recommendations(peliculas_5, similarity_matrix, dfre)\n",
    "else:\n",
    "    print(\"No hay ninguna película con un rating de 5.\")"
   ]
  },
  {
   "cell_type": "code",
   "execution_count": 58,
   "id": "8NP6Mdq14HDs",
   "metadata": {
    "id": "8NP6Mdq14HDs"
   },
   "outputs": [],
   "source": [
    "\n",
    "dfre = dfre[~dfre['title'].isin(dfme['title'])]\n",
    "dfre = dfre.copy()"
   ]
  },
  {
   "cell_type": "code",
   "execution_count": 59,
   "id": "bG1YGn6IjAyf",
   "metadata": {
    "id": "bG1YGn6IjAyf"
   },
   "outputs": [],
   "source": [
    "# se normalizan las puntuaciones y se le da un peso de 65 % a genero 20 % a director, 10 a actores y 5 a descripcion\n",
    "# en caso de no haya valorado ninguna pelicula con un 5 - son 65 % genero 25 % director y 10 % actores"
   ]
  },
  {
   "cell_type": "code",
   "execution_count": 60,
   "id": "P8Vf_5E5yEEc",
   "metadata": {
    "id": "P8Vf_5E5yEEc"
   },
   "outputs": [],
   "source": [
    "def calcular_puntuacion(row):\n",
    "    if row[\"type\"] == \"Movie\":\n",
    "        if 'Puntuacion_des' in dfre.columns and dfre['Puntuacion_des'].max() != 0:\n",
    "            return (\n",
    "                0.68 * row['Puntuacionge'] / dfre['Puntuacionge'].max() +\n",
    "                0.16 * row[\"Puntuaciond\"] / dfre[\"Puntuaciond\"].max() +\n",
    "                0.08 * row[\"Puntuacionac\"] / dfre[\"Puntuacionac\"].max() +\n",
    "                0.08 * row['Puntuacion_des'] / dfre['Puntuacion_des'].max()\n",
    "            )\n",
    "        else:\n",
    "            return (\n",
    "                0.7 * row['Puntuacionge'] / dfre['Puntuacionge'].max() +\n",
    "                0.2 * row[\"Puntuaciond\"] / dfre[\"Puntuaciond\"].max() +\n",
    "                0.1 * row[\"Puntuacionac\"] / dfre[\"Puntuacionac\"].max()\n",
    "            )\n",
    "    else:\n",
    "        if 'Puntuacion_des' in dfre.columns and dfre['Puntuacion_des'].max() != 0:\n",
    "            return (\n",
    "                0.76 * row['Puntuacionge'] / dfre['Puntuacionge'].max() +\n",
    "                0.14 * row[\"Puntuacionac\"] / dfre[\"Puntuacionac\"].max() +\n",
    "                0.10 * row['Puntuacion_des'] / dfre['Puntuacion_des'].max()\n",
    "            )\n",
    "        else:\n",
    "            return (\n",
    "                0.8 * row['Puntuacionge'] / dfre['Puntuacionge'].max() +\n",
    "                0.2 * row[\"Puntuacionac\"] / dfre[\"Puntuacionac\"].max()\n",
    "            )\n",
    "\n",
    "dfre[\"Puntuacion\"] = dfre.apply(calcular_puntuacion, axis=1)"
   ]
  },
  {
   "cell_type": "code",
   "execution_count": 62,
   "id": "gXSHTF_SjGQQ",
   "metadata": {
    "id": "gXSHTF_SjGQQ"
   },
   "outputs": [
    {
     "data": {
      "text/html": [
       "<div>\n",
       "<style scoped>\n",
       "    .dataframe tbody tr th:only-of-type {\n",
       "        vertical-align: middle;\n",
       "    }\n",
       "\n",
       "    .dataframe tbody tr th {\n",
       "        vertical-align: top;\n",
       "    }\n",
       "\n",
       "    .dataframe thead th {\n",
       "        text-align: right;\n",
       "    }\n",
       "</style>\n",
       "<table border=\"1\" class=\"dataframe\">\n",
       "  <thead>\n",
       "    <tr style=\"text-align: right;\">\n",
       "      <th></th>\n",
       "      <th>type</th>\n",
       "      <th>title</th>\n",
       "      <th>director</th>\n",
       "      <th>cast</th>\n",
       "      <th>country</th>\n",
       "      <th>release_year</th>\n",
       "      <th>rating</th>\n",
       "      <th>duration</th>\n",
       "      <th>listed_in</th>\n",
       "      <th>description</th>\n",
       "      <th>titleyear</th>\n",
       "      <th>Puntuacionge</th>\n",
       "      <th>Puntuaciond</th>\n",
       "      <th>Puntuacionac</th>\n",
       "      <th>Puntuacion_des</th>\n",
       "      <th>Puntuacion</th>\n",
       "    </tr>\n",
       "  </thead>\n",
       "  <tbody>\n",
       "    <tr>\n",
       "      <th>4629</th>\n",
       "      <td>TV Show</td>\n",
       "      <td>Maniac</td>\n",
       "      <td>NaN</td>\n",
       "      <td>Emma Stone, Jonah Hill, Justin Theroux, Sally ...</td>\n",
       "      <td>United States</td>\n",
       "      <td>2018.0</td>\n",
       "      <td>18</td>\n",
       "      <td>1 Season</td>\n",
       "      <td>Comedy, Drama, Thrillers</td>\n",
       "      <td>Two struggling strangers connect during a mind...</td>\n",
       "      <td>Maniac 2018</td>\n",
       "      <td>0.522222</td>\n",
       "      <td>0.0</td>\n",
       "      <td>0.000000</td>\n",
       "      <td>0.026936</td>\n",
       "      <td>0.798577</td>\n",
       "    </tr>\n",
       "    <tr>\n",
       "      <th>2826</th>\n",
       "      <td>TV Show</td>\n",
       "      <td>On My Block</td>\n",
       "      <td>NaN</td>\n",
       "      <td>Sierra Capri, Jason Genao, Brett Gray, Diego T...</td>\n",
       "      <td>United States</td>\n",
       "      <td>2020.0</td>\n",
       "      <td>14</td>\n",
       "      <td>3 Seasons</td>\n",
       "      <td>Romance, Comedy, Drama</td>\n",
       "      <td>In a rough inner-city Los Angeles neighborhood...</td>\n",
       "      <td>On My Block 2020</td>\n",
       "      <td>0.466667</td>\n",
       "      <td>0.0</td>\n",
       "      <td>0.000000</td>\n",
       "      <td>0.031997</td>\n",
       "      <td>0.724973</td>\n",
       "    </tr>\n",
       "    <tr>\n",
       "      <th>1275</th>\n",
       "      <td>TV Show</td>\n",
       "      <td>Ginny &amp; Georgia</td>\n",
       "      <td>NaN</td>\n",
       "      <td>Brianne Howey, Antonia Gentry, Diesel La Torra...</td>\n",
       "      <td>United States</td>\n",
       "      <td>2021.0</td>\n",
       "      <td>14</td>\n",
       "      <td>1 Season</td>\n",
       "      <td>Romance, Comedy, Drama</td>\n",
       "      <td>Free-spirited Georgia and her two kids, Ginny ...</td>\n",
       "      <td>Ginny &amp; Georgia 2021</td>\n",
       "      <td>0.466667</td>\n",
       "      <td>0.0</td>\n",
       "      <td>0.000000</td>\n",
       "      <td>0.029668</td>\n",
       "      <td>0.721639</td>\n",
       "    </tr>\n",
       "    <tr>\n",
       "      <th>1448</th>\n",
       "      <td>TV Show</td>\n",
       "      <td>Cobra Kai</td>\n",
       "      <td>NaN</td>\n",
       "      <td>Ralph Macchio, William Zabka, Xolo MaridueÃ±a,...</td>\n",
       "      <td>United States</td>\n",
       "      <td>2021.0</td>\n",
       "      <td>14</td>\n",
       "      <td>3 Seasons</td>\n",
       "      <td>Action, Comedy, Drama</td>\n",
       "      <td>Decades after the tournament that changed thei...</td>\n",
       "      <td>Cobra Kai 2021</td>\n",
       "      <td>0.477778</td>\n",
       "      <td>0.0</td>\n",
       "      <td>0.000000</td>\n",
       "      <td>0.012406</td>\n",
       "      <td>0.713086</td>\n",
       "    </tr>\n",
       "    <tr>\n",
       "      <th>1894</th>\n",
       "      <td>TV Show</td>\n",
       "      <td>Emily in Paris</td>\n",
       "      <td>NaN</td>\n",
       "      <td>Lily Collins, Philippine Leroy-Beaulieu, Ashle...</td>\n",
       "      <td>United States</td>\n",
       "      <td>2020.0</td>\n",
       "      <td>18</td>\n",
       "      <td>1 Season</td>\n",
       "      <td>Romance, Comedy, Drama</td>\n",
       "      <td>After landing her dream job in Paris, Chicago ...</td>\n",
       "      <td>Emily in Paris 2020</td>\n",
       "      <td>0.466667</td>\n",
       "      <td>0.0</td>\n",
       "      <td>0.000000</td>\n",
       "      <td>0.021870</td>\n",
       "      <td>0.710470</td>\n",
       "    </tr>\n",
       "    <tr>\n",
       "      <th>7984</th>\n",
       "      <td>TV Show</td>\n",
       "      <td>Servant of the People</td>\n",
       "      <td>NaN</td>\n",
       "      <td>Vladimir Zelenskiy, Natalya Sumskaya, Viktor S...</td>\n",
       "      <td>Ukraine</td>\n",
       "      <td>2015.0</td>\n",
       "      <td>14</td>\n",
       "      <td>1 Season</td>\n",
       "      <td>World movies and shows, Comedy</td>\n",
       "      <td>After a Ukrainian high school teacher's tirade...</td>\n",
       "      <td>Servant of the People 2015</td>\n",
       "      <td>0.466667</td>\n",
       "      <td>0.0</td>\n",
       "      <td>0.009158</td>\n",
       "      <td>0.013564</td>\n",
       "      <td>0.707908</td>\n",
       "    </tr>\n",
       "    <tr>\n",
       "      <th>1722</th>\n",
       "      <td>TV Show</td>\n",
       "      <td>DASH &amp; LILY</td>\n",
       "      <td>NaN</td>\n",
       "      <td>Midori Francis, Austin Abrams, Dante Brown, Tr...</td>\n",
       "      <td>United States</td>\n",
       "      <td>2020.0</td>\n",
       "      <td>14</td>\n",
       "      <td>1 Season</td>\n",
       "      <td>Romance, Comedy, Drama</td>\n",
       "      <td>Opposites attract at Christmas as cynical Dash...</td>\n",
       "      <td>DASH &amp; LILY 2020</td>\n",
       "      <td>0.466667</td>\n",
       "      <td>0.0</td>\n",
       "      <td>0.000000</td>\n",
       "      <td>0.018611</td>\n",
       "      <td>0.705802</td>\n",
       "    </tr>\n",
       "    <tr>\n",
       "      <th>8726</th>\n",
       "      <td>TV Show</td>\n",
       "      <td>When Calls the Heart</td>\n",
       "      <td>NaN</td>\n",
       "      <td>Erin Krakow, Daniel Lissing, Lori Loughlin, Ma...</td>\n",
       "      <td>United States</td>\n",
       "      <td>2017.0</td>\n",
       "      <td>8</td>\n",
       "      <td>5 Seasons</td>\n",
       "      <td>Drama</td>\n",
       "      <td>Leaving behind her upper-crust city roots, a w...</td>\n",
       "      <td>When Calls the Heart 2017</td>\n",
       "      <td>0.477778</td>\n",
       "      <td>0.0</td>\n",
       "      <td>0.000000</td>\n",
       "      <td>0.003601</td>\n",
       "      <td>0.700476</td>\n",
       "    </tr>\n",
       "    <tr>\n",
       "      <th>1079</th>\n",
       "      <td>TV Show</td>\n",
       "      <td>The Baker and the Beauty</td>\n",
       "      <td>NaN</td>\n",
       "      <td>Victor Rasuk, Nathalie Kelley, Dan Bucatinsky,...</td>\n",
       "      <td>Israel, United States</td>\n",
       "      <td>2020.0</td>\n",
       "      <td>8</td>\n",
       "      <td>1 Season</td>\n",
       "      <td>Romance, Comedy, Drama</td>\n",
       "      <td>A Miami baker and a fashionista try to make ro...</td>\n",
       "      <td>The Baker and the Beauty 2020</td>\n",
       "      <td>0.466667</td>\n",
       "      <td>0.0</td>\n",
       "      <td>0.000000</td>\n",
       "      <td>0.011033</td>\n",
       "      <td>0.694949</td>\n",
       "    </tr>\n",
       "    <tr>\n",
       "      <th>5284</th>\n",
       "      <td>TV Show</td>\n",
       "      <td>No Tomorrow</td>\n",
       "      <td>NaN</td>\n",
       "      <td>Joshua Sasse, Tori Anderson, Jonathan Langdon,...</td>\n",
       "      <td>United States</td>\n",
       "      <td>2016.0</td>\n",
       "      <td>8</td>\n",
       "      <td>1 Season</td>\n",
       "      <td>Romance, Comedy, Drama</td>\n",
       "      <td>Her straitjacketed life turned topsy-turvy by ...</td>\n",
       "      <td>No Tomorrow 2016</td>\n",
       "      <td>0.466667</td>\n",
       "      <td>0.0</td>\n",
       "      <td>0.000000</td>\n",
       "      <td>0.010548</td>\n",
       "      <td>0.694256</td>\n",
       "    </tr>\n",
       "    <tr>\n",
       "      <th>758</th>\n",
       "      <td>TV Show</td>\n",
       "      <td>Feel Good</td>\n",
       "      <td>Ally Pankiw</td>\n",
       "      <td>Mae Martin, Charlotte Ritchie, Lisa Kudrow, So...</td>\n",
       "      <td>United Kingdom</td>\n",
       "      <td>2021.0</td>\n",
       "      <td>18</td>\n",
       "      <td>2 Seasons</td>\n",
       "      <td>Romance, Comedy, Drama</td>\n",
       "      <td>Stand-up comic Mae Martin navigates a passiona...</td>\n",
       "      <td>Feel Good 2021</td>\n",
       "      <td>0.466667</td>\n",
       "      <td>0.0</td>\n",
       "      <td>0.000000</td>\n",
       "      <td>0.008324</td>\n",
       "      <td>0.691070</td>\n",
       "    </tr>\n",
       "    <tr>\n",
       "      <th>8604</th>\n",
       "      <td>TV Show</td>\n",
       "      <td>Top 10 Secrets and Mysteries</td>\n",
       "      <td>NaN</td>\n",
       "      <td></td>\n",
       "      <td>United Kingdom, United States, Czech Republic</td>\n",
       "      <td>2018.0</td>\n",
       "      <td>14</td>\n",
       "      <td>1 Season</td>\n",
       "      <td>World movies and shows, Documentary, Science &amp;...</td>\n",
       "      <td>This series investigates mysteries that persis...</td>\n",
       "      <td>Top 10 Secrets and Mysteries 2018</td>\n",
       "      <td>0.466667</td>\n",
       "      <td>0.0</td>\n",
       "      <td>0.009158</td>\n",
       "      <td>0.000000</td>\n",
       "      <td>0.688482</td>\n",
       "    </tr>\n",
       "    <tr>\n",
       "      <th>3608</th>\n",
       "      <td>TV Show</td>\n",
       "      <td>Jane The Virgin</td>\n",
       "      <td>NaN</td>\n",
       "      <td>Gina Rodriguez, Andrea Navedo, Yael Grobglas, ...</td>\n",
       "      <td>United States</td>\n",
       "      <td>2019.0</td>\n",
       "      <td>14</td>\n",
       "      <td>5 Seasons</td>\n",
       "      <td>Romance, Comedy, Drama</td>\n",
       "      <td>After vowing to remain chaste until marriage, ...</td>\n",
       "      <td>Jane The Virgin 2019</td>\n",
       "      <td>0.466667</td>\n",
       "      <td>0.0</td>\n",
       "      <td>0.000000</td>\n",
       "      <td>0.006000</td>\n",
       "      <td>0.687742</td>\n",
       "    </tr>\n",
       "    <tr>\n",
       "      <th>1043</th>\n",
       "      <td>TV Show</td>\n",
       "      <td>Gilmore Girls</td>\n",
       "      <td>NaN</td>\n",
       "      <td>Lauren Graham, Alexis Bledel, Scott Patterson,...</td>\n",
       "      <td>United States</td>\n",
       "      <td>2006.0</td>\n",
       "      <td>14</td>\n",
       "      <td>7 Seasons</td>\n",
       "      <td>Romance, Comedy, Drama</td>\n",
       "      <td>Fiercely independent single mom Lorelai raises...</td>\n",
       "      <td>Gilmore Girls 2006</td>\n",
       "      <td>0.466667</td>\n",
       "      <td>0.0</td>\n",
       "      <td>0.000000</td>\n",
       "      <td>0.000000</td>\n",
       "      <td>0.679149</td>\n",
       "    </tr>\n",
       "    <tr>\n",
       "      <th>3799</th>\n",
       "      <td>TV Show</td>\n",
       "      <td>She's Gotta Have It</td>\n",
       "      <td>NaN</td>\n",
       "      <td>DeWanda Wise, Cleo Anthony, Lyriq Bent, Anthon...</td>\n",
       "      <td>United States</td>\n",
       "      <td>2018.0</td>\n",
       "      <td>18</td>\n",
       "      <td>2 Seasons</td>\n",
       "      <td>Romance, Comedy, Drama</td>\n",
       "      <td>Nola Darling struggles to stay true to herself...</td>\n",
       "      <td>She's Gotta Have It 2018</td>\n",
       "      <td>0.466667</td>\n",
       "      <td>0.0</td>\n",
       "      <td>0.000000</td>\n",
       "      <td>0.000000</td>\n",
       "      <td>0.679149</td>\n",
       "    </tr>\n",
       "    <tr>\n",
       "      <th>3030</th>\n",
       "      <td>TV Show</td>\n",
       "      <td>The Healing Powers of Dude</td>\n",
       "      <td>NaN</td>\n",
       "      <td>Jace Chapman, Larisa Oleynik, Tom Everett Scot...</td>\n",
       "      <td>NaN</td>\n",
       "      <td>2020.0</td>\n",
       "      <td>3</td>\n",
       "      <td>1 Season</td>\n",
       "      <td>Family, Comedy, Drama</td>\n",
       "      <td>When an 11-year-old boy with social anxiety di...</td>\n",
       "      <td>The Healing Powers of Dude 2020</td>\n",
       "      <td>0.422222</td>\n",
       "      <td>0.0</td>\n",
       "      <td>0.000000</td>\n",
       "      <td>0.043413</td>\n",
       "      <td>0.676642</td>\n",
       "    </tr>\n",
       "    <tr>\n",
       "      <th>7900</th>\n",
       "      <td>Movie</td>\n",
       "      <td>Rumble in the Bronx</td>\n",
       "      <td>Stanley Tong</td>\n",
       "      <td>Jackie Chan, Anita Mui, FranÃ§oise Yip, Bill T...</td>\n",
       "      <td>Hong Kong</td>\n",
       "      <td>1995.0</td>\n",
       "      <td>18</td>\n",
       "      <td>89 min</td>\n",
       "      <td>Action, Comedy, World movies and shows</td>\n",
       "      <td>During a visit to the Bronx to help out at his...</td>\n",
       "      <td>Rumble in the Bronx 1995</td>\n",
       "      <td>0.333333</td>\n",
       "      <td>0.1</td>\n",
       "      <td>0.137363</td>\n",
       "      <td>0.000000</td>\n",
       "      <td>0.674043</td>\n",
       "    </tr>\n",
       "    <tr>\n",
       "      <th>3918</th>\n",
       "      <td>Movie</td>\n",
       "      <td>Shortcut Safari</td>\n",
       "      <td>Amitabha Singh</td>\n",
       "      <td>Jimmy Shergill, Aashi Rawal, Stuti Dwivedi, De...</td>\n",
       "      <td>India</td>\n",
       "      <td>2016.0</td>\n",
       "      <td>8</td>\n",
       "      <td>101 min</td>\n",
       "      <td>Action, Comedy, Drama</td>\n",
       "      <td>Unexpected wildlife adventures and valuable li...</td>\n",
       "      <td>Shortcut Safari 2016</td>\n",
       "      <td>0.477778</td>\n",
       "      <td>0.0</td>\n",
       "      <td>0.000000</td>\n",
       "      <td>0.039279</td>\n",
       "      <td>0.667131</td>\n",
       "    </tr>\n",
       "    <tr>\n",
       "      <th>582</th>\n",
       "      <td>Movie</td>\n",
       "      <td>Mother's Day</td>\n",
       "      <td>Garry Marshall</td>\n",
       "      <td>Jennifer Aniston, Kate Hudson, Julia Roberts, ...</td>\n",
       "      <td>United States</td>\n",
       "      <td>2016.0</td>\n",
       "      <td>13</td>\n",
       "      <td>118 min</td>\n",
       "      <td>Comedy, Drama</td>\n",
       "      <td>The trials and tribulations of several Atlanta...</td>\n",
       "      <td>Mother's Day 2016</td>\n",
       "      <td>0.366667</td>\n",
       "      <td>0.1</td>\n",
       "      <td>0.018315</td>\n",
       "      <td>0.013639</td>\n",
       "      <td>0.663740</td>\n",
       "    </tr>\n",
       "    <tr>\n",
       "      <th>8216</th>\n",
       "      <td>TV Show</td>\n",
       "      <td>The Bomb Squad</td>\n",
       "      <td>NaN</td>\n",
       "      <td>Christopher Eccleston</td>\n",
       "      <td>United Kingdom</td>\n",
       "      <td>2011.0</td>\n",
       "      <td>18</td>\n",
       "      <td>1 Season</td>\n",
       "      <td>World movies and shows, Documentary</td>\n",
       "      <td>This documentary follows British bomb disposal...</td>\n",
       "      <td>The Bomb Squad 2011</td>\n",
       "      <td>0.444444</td>\n",
       "      <td>0.0</td>\n",
       "      <td>0.000000</td>\n",
       "      <td>0.011734</td>\n",
       "      <td>0.663614</td>\n",
       "    </tr>\n",
       "  </tbody>\n",
       "</table>\n",
       "</div>"
      ],
      "text/plain": [
       "         type                         title        director  \\\n",
       "4629  TV Show                        Maniac             NaN   \n",
       "2826  TV Show                   On My Block             NaN   \n",
       "1275  TV Show               Ginny & Georgia             NaN   \n",
       "1448  TV Show                     Cobra Kai             NaN   \n",
       "1894  TV Show                Emily in Paris             NaN   \n",
       "7984  TV Show         Servant of the People             NaN   \n",
       "1722  TV Show                   DASH & LILY             NaN   \n",
       "8726  TV Show          When Calls the Heart             NaN   \n",
       "1079  TV Show      The Baker and the Beauty             NaN   \n",
       "5284  TV Show                   No Tomorrow             NaN   \n",
       "758   TV Show                     Feel Good     Ally Pankiw   \n",
       "8604  TV Show  Top 10 Secrets and Mysteries             NaN   \n",
       "3608  TV Show               Jane The Virgin             NaN   \n",
       "1043  TV Show                 Gilmore Girls             NaN   \n",
       "3799  TV Show           She's Gotta Have It             NaN   \n",
       "3030  TV Show    The Healing Powers of Dude             NaN   \n",
       "7900    Movie           Rumble in the Bronx    Stanley Tong   \n",
       "3918    Movie               Shortcut Safari  Amitabha Singh   \n",
       "582     Movie                  Mother's Day  Garry Marshall   \n",
       "8216  TV Show                The Bomb Squad             NaN   \n",
       "\n",
       "                                                   cast  \\\n",
       "4629  Emma Stone, Jonah Hill, Justin Theroux, Sally ...   \n",
       "2826  Sierra Capri, Jason Genao, Brett Gray, Diego T...   \n",
       "1275  Brianne Howey, Antonia Gentry, Diesel La Torra...   \n",
       "1448  Ralph Macchio, William Zabka, Xolo MaridueÃ±a,...   \n",
       "1894  Lily Collins, Philippine Leroy-Beaulieu, Ashle...   \n",
       "7984  Vladimir Zelenskiy, Natalya Sumskaya, Viktor S...   \n",
       "1722  Midori Francis, Austin Abrams, Dante Brown, Tr...   \n",
       "8726  Erin Krakow, Daniel Lissing, Lori Loughlin, Ma...   \n",
       "1079  Victor Rasuk, Nathalie Kelley, Dan Bucatinsky,...   \n",
       "5284  Joshua Sasse, Tori Anderson, Jonathan Langdon,...   \n",
       "758   Mae Martin, Charlotte Ritchie, Lisa Kudrow, So...   \n",
       "8604                                                      \n",
       "3608  Gina Rodriguez, Andrea Navedo, Yael Grobglas, ...   \n",
       "1043  Lauren Graham, Alexis Bledel, Scott Patterson,...   \n",
       "3799  DeWanda Wise, Cleo Anthony, Lyriq Bent, Anthon...   \n",
       "3030  Jace Chapman, Larisa Oleynik, Tom Everett Scot...   \n",
       "7900  Jackie Chan, Anita Mui, FranÃ§oise Yip, Bill T...   \n",
       "3918  Jimmy Shergill, Aashi Rawal, Stuti Dwivedi, De...   \n",
       "582   Jennifer Aniston, Kate Hudson, Julia Roberts, ...   \n",
       "8216                              Christopher Eccleston   \n",
       "\n",
       "                                            country  release_year rating  \\\n",
       "4629                                  United States        2018.0     18   \n",
       "2826                                  United States        2020.0     14   \n",
       "1275                                  United States        2021.0     14   \n",
       "1448                                  United States        2021.0     14   \n",
       "1894                                  United States        2020.0     18   \n",
       "7984                                        Ukraine        2015.0     14   \n",
       "1722                                  United States        2020.0     14   \n",
       "8726                                  United States        2017.0      8   \n",
       "1079                          Israel, United States        2020.0      8   \n",
       "5284                                  United States        2016.0      8   \n",
       "758                                  United Kingdom        2021.0     18   \n",
       "8604  United Kingdom, United States, Czech Republic        2018.0     14   \n",
       "3608                                  United States        2019.0     14   \n",
       "1043                                  United States        2006.0     14   \n",
       "3799                                  United States        2018.0     18   \n",
       "3030                                            NaN        2020.0      3   \n",
       "7900                                      Hong Kong        1995.0     18   \n",
       "3918                                          India        2016.0      8   \n",
       "582                                   United States        2016.0     13   \n",
       "8216                                 United Kingdom        2011.0     18   \n",
       "\n",
       "       duration                                          listed_in  \\\n",
       "4629   1 Season                           Comedy, Drama, Thrillers   \n",
       "2826  3 Seasons                             Romance, Comedy, Drama   \n",
       "1275   1 Season                             Romance, Comedy, Drama   \n",
       "1448  3 Seasons                              Action, Comedy, Drama   \n",
       "1894   1 Season                             Romance, Comedy, Drama   \n",
       "7984   1 Season                     World movies and shows, Comedy   \n",
       "1722   1 Season                             Romance, Comedy, Drama   \n",
       "8726  5 Seasons                                              Drama   \n",
       "1079   1 Season                             Romance, Comedy, Drama   \n",
       "5284   1 Season                             Romance, Comedy, Drama   \n",
       "758   2 Seasons                             Romance, Comedy, Drama   \n",
       "8604   1 Season  World movies and shows, Documentary, Science &...   \n",
       "3608  5 Seasons                             Romance, Comedy, Drama   \n",
       "1043  7 Seasons                             Romance, Comedy, Drama   \n",
       "3799  2 Seasons                             Romance, Comedy, Drama   \n",
       "3030   1 Season                              Family, Comedy, Drama   \n",
       "7900     89 min             Action, Comedy, World movies and shows   \n",
       "3918    101 min                              Action, Comedy, Drama   \n",
       "582     118 min                                      Comedy, Drama   \n",
       "8216   1 Season                World movies and shows, Documentary   \n",
       "\n",
       "                                            description  \\\n",
       "4629  Two struggling strangers connect during a mind...   \n",
       "2826  In a rough inner-city Los Angeles neighborhood...   \n",
       "1275  Free-spirited Georgia and her two kids, Ginny ...   \n",
       "1448  Decades after the tournament that changed thei...   \n",
       "1894  After landing her dream job in Paris, Chicago ...   \n",
       "7984  After a Ukrainian high school teacher's tirade...   \n",
       "1722  Opposites attract at Christmas as cynical Dash...   \n",
       "8726  Leaving behind her upper-crust city roots, a w...   \n",
       "1079  A Miami baker and a fashionista try to make ro...   \n",
       "5284  Her straitjacketed life turned topsy-turvy by ...   \n",
       "758   Stand-up comic Mae Martin navigates a passiona...   \n",
       "8604  This series investigates mysteries that persis...   \n",
       "3608  After vowing to remain chaste until marriage, ...   \n",
       "1043  Fiercely independent single mom Lorelai raises...   \n",
       "3799  Nola Darling struggles to stay true to herself...   \n",
       "3030  When an 11-year-old boy with social anxiety di...   \n",
       "7900  During a visit to the Bronx to help out at his...   \n",
       "3918  Unexpected wildlife adventures and valuable li...   \n",
       "582   The trials and tribulations of several Atlanta...   \n",
       "8216  This documentary follows British bomb disposal...   \n",
       "\n",
       "                              titleyear  Puntuacionge  Puntuaciond  \\\n",
       "4629                        Maniac 2018      0.522222          0.0   \n",
       "2826                   On My Block 2020      0.466667          0.0   \n",
       "1275               Ginny & Georgia 2021      0.466667          0.0   \n",
       "1448                     Cobra Kai 2021      0.477778          0.0   \n",
       "1894                Emily in Paris 2020      0.466667          0.0   \n",
       "7984         Servant of the People 2015      0.466667          0.0   \n",
       "1722                   DASH & LILY 2020      0.466667          0.0   \n",
       "8726          When Calls the Heart 2017      0.477778          0.0   \n",
       "1079      The Baker and the Beauty 2020      0.466667          0.0   \n",
       "5284                   No Tomorrow 2016      0.466667          0.0   \n",
       "758                      Feel Good 2021      0.466667          0.0   \n",
       "8604  Top 10 Secrets and Mysteries 2018      0.466667          0.0   \n",
       "3608               Jane The Virgin 2019      0.466667          0.0   \n",
       "1043                 Gilmore Girls 2006      0.466667          0.0   \n",
       "3799           She's Gotta Have It 2018      0.466667          0.0   \n",
       "3030    The Healing Powers of Dude 2020      0.422222          0.0   \n",
       "7900           Rumble in the Bronx 1995      0.333333          0.1   \n",
       "3918               Shortcut Safari 2016      0.477778          0.0   \n",
       "582                   Mother's Day 2016      0.366667          0.1   \n",
       "8216                The Bomb Squad 2011      0.444444          0.0   \n",
       "\n",
       "      Puntuacionac  Puntuacion_des  Puntuacion  \n",
       "4629      0.000000        0.026936    0.798577  \n",
       "2826      0.000000        0.031997    0.724973  \n",
       "1275      0.000000        0.029668    0.721639  \n",
       "1448      0.000000        0.012406    0.713086  \n",
       "1894      0.000000        0.021870    0.710470  \n",
       "7984      0.009158        0.013564    0.707908  \n",
       "1722      0.000000        0.018611    0.705802  \n",
       "8726      0.000000        0.003601    0.700476  \n",
       "1079      0.000000        0.011033    0.694949  \n",
       "5284      0.000000        0.010548    0.694256  \n",
       "758       0.000000        0.008324    0.691070  \n",
       "8604      0.009158        0.000000    0.688482  \n",
       "3608      0.000000        0.006000    0.687742  \n",
       "1043      0.000000        0.000000    0.679149  \n",
       "3799      0.000000        0.000000    0.679149  \n",
       "3030      0.000000        0.043413    0.676642  \n",
       "7900      0.137363        0.000000    0.674043  \n",
       "3918      0.000000        0.039279    0.667131  \n",
       "582       0.018315        0.013639    0.663740  \n",
       "8216      0.000000        0.011734    0.663614  "
      ]
     },
     "execution_count": 62,
     "metadata": {},
     "output_type": "execute_result"
    }
   ],
   "source": [
    "recomendaciones = dfre.sort_values(by='Puntuacion', ascending=False)\n",
    "edades = {\n",
    "    'TV-MA': 18,\n",
    "    'TV-14': 14,\n",
    "    'PG-13': 13,\n",
    "    'PG': 8,\n",
    "    'R': 18,\n",
    "    'TV-PG': 8,\n",
    "    'G': 3,\n",
    "    'TV-Y7': 7,\n",
    "    'TV-G': 3,\n",
    "    'NR': 0,\n",
    "    'TV-Y': 3\n",
    "}\n",
    "\n",
    "recomendaciones['rating'] = recomendaciones['rating'].replace(edades) # Modificamos la columna \"rating\" para que se vean las edades recomendadas por película\n",
    "recomendaciones.head(20)"
   ]
  },
  {
   "cell_type": "code",
   "execution_count": null,
   "id": "1dbd766b-4688-40fe-9d64-98e8ea0d9d76",
   "metadata": {},
   "outputs": [],
   "source": []
  }
 ],
 "metadata": {
  "colab": {
   "provenance": []
  },
  "kernelspec": {
   "display_name": "Python 3 (ipykernel)",
   "language": "python",
   "name": "python3"
  },
  "language_info": {
   "codemirror_mode": {
    "name": "ipython",
    "version": 3
   },
   "file_extension": ".py",
   "mimetype": "text/x-python",
   "name": "python",
   "nbconvert_exporter": "python",
   "pygments_lexer": "ipython3",
   "version": "3.11.5"
  }
 },
 "nbformat": 4,
 "nbformat_minor": 5
}
